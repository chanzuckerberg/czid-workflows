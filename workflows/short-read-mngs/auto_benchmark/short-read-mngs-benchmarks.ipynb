{
 "cells": [
  {
   "attachments": {
    "IDseq_logo_mono.png": {
     "image/png": "[encoded data removed]"
    }
   },
   "cell_type": "markdown",
   "metadata": {},
   "source": [
    "![IDseq_logo_mono.png](attachment:IDseq_logo_mono.png)\n",
    "\n",
    "# short-read-mngs benchmark"
   ]
  },
  {
   "cell_type": "markdown",
   "metadata": {},
   "source": [
    "Load notebook parameters from environment variables:\n",
    "\n",
    "* `RUN_NAME`: descriptive name for these results\n",
    "* `HARVEST_DATA`: filename containing JSON output of harvest.py (multiple files colon-separated)\n",
    "* `REF_LIB`: directory containing SAMPLE.json files with reference (expected) data for each sample\n",
    "* `MIN_RPM`: rPM cutoff for display in this notebook's detail tables"
   ]
  },
  {
   "cell_type": "code",
   "execution_count": null,
   "metadata": {},
   "outputs": [],
   "source": [
    "import os\n",
    "def param(key, default):\n",
    "    value = os.environ.get(key, default)\n",
    "    print(f\"{key} = {value}\")\n",
    "    return value\n",
    "run_name = param(\"RUN_NAME\", \"short-read-mngs\")\n",
    "datafiles = param(\"HARVEST_DATA\", \"harvest.json\")\n",
    "reference_lib = param(\"REF_LIB\", None)\n",
    "min_rPM = int(param(\"MIN_RPM\", 500))"
   ]
  },
  {
   "cell_type": "code",
   "execution_count": null,
   "metadata": {},
   "outputs": [],
   "source": [
    "import json\n",
    "import math\n",
    "import numpy as np\n",
    "import seaborn as sns\n",
    "import pandas as pd\n",
    "import matplotlib.pyplot as plt\n",
    "from IPython.display import display, HTML"
   ]
  },
  {
   "cell_type": "code",
   "execution_count": null,
   "metadata": {},
   "outputs": [],
   "source": [
    "data = {}\n",
    "for datafile in datafiles.split(\":\"):\n",
    "    if datafile:\n",
    "        with open(datafile) as infile:\n",
    "            data.update(json.load(infile))\n",
    "ref_data = {}\n",
    "if reference_lib:\n",
    "    for sample in data:\n",
    "        ref_fn = os.path.join(reference_lib, f\"{sample}.json\")\n",
    "        if os.path.isfile(ref_fn):\n",
    "            with open(ref_fn) as infile:\n",
    "                ref_data[sample] = json.load(infile)\n",
    "        else:\n",
    "            print(f\"WARNING: no reference data for {sample}\")"
   ]
  },
  {
   "cell_type": "code",
   "execution_count": null,
   "metadata": {},
   "outputs": [],
   "source": [
    "# master routine for color-coding deviations and touching a sentinel file if any exist\n",
    "SENTINEL_FN = \".short-read-mngs-benchmarks-deviation\"\n",
    "try:\n",
    "    os.remove(SENTINEL_FN)\n",
    "except FileNotFoundError:\n",
    "    pass\n",
    "def colorcode(err):\n",
    "    ans = 'green'\n",
    "    if not isinstance(err, float) or math.isnan(err) or err > 0.01:\n",
    "        ans = 'red'\n",
    "        if isinstance(err, float) and err <= 0.1:\n",
    "            ans = 'yellow'\n",
    "        with open(SENTINEL_FN, 'w'):\n",
    "            pass\n",
    "    return ans"
   ]
  },
  {
   "cell_type": "markdown",
   "metadata": {},
   "source": [
    "## read & contig summary counts"
   ]
  },
  {
   "cell_type": "code",
   "execution_count": null,
   "metadata": {},
   "outputs": [],
   "source": [
    "counts_df = pd.DataFrame.from_dict({sample: elt[\"counts\"] for sample, elt in data.items()})\n",
    "if ref_data:\n",
    "    ref_df = pd.DataFrame.from_dict({f\"{sample}.REF\": elt[\"counts\"] for sample, elt in ref_data.items()})\n",
    "    counts_df = pd.concat([counts_df, ref_df], axis=1)\n",
    "    counts_df = counts_df.reindex(sorted(counts_df.columns), axis=1)\n",
    "    def error_colors(counts_df):\n",
    "        colors_df = pd.DataFrame('', index=counts_df.index, columns=counts_df.columns)\n",
    "        for sample in data:\n",
    "            for key in counts_df.index:\n",
    "                err = float(\"nan\")\n",
    "                v = counts_df[sample][key]\n",
    "                try:\n",
    "                    vref = ref_df[f\"{sample}.REF\"][key]\n",
    "                    if isinstance(v, (int, float)):\n",
    "                        err = math.fabs((v-vref)/vref) if vref else float('inf')\n",
    "                    elif v == vref:\n",
    "                        err = 0\n",
    "                except KeyError:\n",
    "                    pass\n",
    "                color = colorcode(err)\n",
    "                colors_df[sample][key] = 'background-color: light' + color\n",
    "                colors_df[f\"{sample}.REF\"][key] = 'background-color:' + color\n",
    "        return colors_df\n",
    "    counts_df = counts_df.style.apply(error_colors, axis=None)"
   ]
  },
  {
   "cell_type": "markdown",
   "metadata": {},
   "source": [
    "**Below:**\n",
    "\n",
    "1. \"{stage}_reads\" counts reads *output* by the stage.\n",
    "  * If the input is paired, then they count pairs.\n",
    "1. \"{initial,refined}_unmapped_reads\" count reads unassigned to any taxa in NT or NR, before and after remapping to assembly contigs.\n",
    "  * These always count individual reads (never pairs).\n",
    "1. \"{sample}.REF\" columns show the respective count from the reference library, if supplied.\n",
    "  * green = within 1% of reference, yellow = within 10%, red = other."
   ]
  },
  {
   "cell_type": "code",
   "execution_count": null,
   "metadata": {},
   "outputs": [],
   "source": [
    "pd.set_option(\"display.precision\", 2)\n",
    "display(counts_df)"
   ]
  },
  {
   "cell_type": "markdown",
   "metadata": {},
   "source": [
    "## taxa accuracy vs truth sets"
   ]
  },
  {
   "cell_type": "code",
   "execution_count": null,
   "metadata": {},
   "outputs": [],
   "source": [
    "for sample in data:\n",
    "    display(HTML(f\"<h3>{sample}</h3>\"))\n",
    "    prdf = pd.concat([\n",
    "        pd.DataFrame.from_dict({\"precision\":data[sample][\"NT_precision\"], \"recall\":data[sample][\"NT_recall\"], \"db\":[\"NT\"]*len(data[sample][\"NT_recall\"])}),\n",
    "        pd.DataFrame.from_dict({\"precision\":data[sample][\"NR_precision\"], \"recall\":data[sample][\"NR_recall\"], \"db\":[\"NR\"]*len(data[sample][\"NR_recall\"])}),\n",
    "    ]).reset_index(drop=True)\n",
    "    sns.lineplot(data=prdf, x=\"recall\", y=\"precision\", hue=\"db\", ci=None)\\\n",
    "       .set_title(f\"AUPR: NT={round(data[sample]['NT_aupr'],4)} NR={round(data[sample]['NR_aupr'],4)}\")\n",
    "    plt.xlim(0,1.05)\n",
    "    plt.ylim(0,1.05)\n",
    "    plt.show()\n"
   ]
  },
  {
   "cell_type": "markdown",
   "metadata": {},
   "source": [
    "## taxa abundance spectra"
   ]
  },
  {
   "cell_type": "code",
   "execution_count": null,
   "metadata": {},
   "outputs": [],
   "source": [
    "def taxa_dataframe(sample_data, sample_reads, db):\n",
    "    # for one sample and either NR or NT, generate dataframe of the taxa-specific abundance/assembly info\n",
    "    prep = {}\n",
    "    for tax_id in sample_data:\n",
    "        sample_data[tax_id][\"rPM\"] = max(1,round(sample_data[tax_id][\"reads_dedup\"]*1e6/sample_reads))\n",
    "        prep[tax_id] = {f\"{db}_{key}\": sample_data[tax_id][key] for key in [\n",
    "            \"tax_name\", \"rPM\", \"reads\", \"contigs_reads\", \"contigs_N50\"]}\n",
    "    return pd.DataFrame.from_dict(prep, orient=\"index\")\n",
    "\n",
    "def joined_taxa_dataframe(sample_data):\n",
    "    # figure rPM denominator\n",
    "    sample_reads = sample_data[\"counts\"][\"subsampled_reads\"]\n",
    "    if sample_data[\"counts\"][\"paired\"]:\n",
    "        sample_reads *= 2\n",
    "\n",
    "    # taxa dataframes for NT & NR\n",
    "    sample_NT = taxa_dataframe(sample_data[\"taxa\"][\"NT\"], sample_reads, \"NT\")\n",
    "    sample_NR = taxa_dataframe(sample_data[\"taxa\"][\"NR\"], sample_reads, \"NR\")\n",
    "\n",
    "    # join them & reformat\n",
    "    joined = pd.merge(sample_NT, sample_NR, how=\"outer\", left_index=True, right_index=True)\n",
    "    joined[\"tax_name\"] = joined[\"NT_tax_name\"].combine_first(joined[\"NR_tax_name\"])\n",
    "    joined[\"max_rPM\"] = joined[[\"NT_rPM\", \"NR_rPM\"]].max(axis=1)\n",
    "    \n",
    "    return joined[[\n",
    "        \"tax_name\", \"max_rPM\",\n",
    "        \"NT_contigs_reads\", \"NT_contigs_N50\",\n",
    "        \"NR_contigs_reads\", \"NR_contigs_N50\"\n",
    "    ]].sort_values(by=\"max_rPM\", ascending=False)\n",
    "\n",
    "taxa_tables = {}\n",
    "for sample, sample_data in data.items():\n",
    "    joined = joined_taxa_dataframe(sample_data)\n",
    "    if ref_data:\n",
    "        if sample in ref_data:\n",
    "            joined_ref = joined_taxa_dataframe(ref_data[sample])\n",
    "        else:\n",
    "            joined_ref = pd.DataFrame(columns=joined.columns)\n",
    "        joined_ref = joined_ref.rename(columns={key: f\"{key}.REF\" for key in joined_ref.columns})\n",
    "        joined = pd.merge(joined, joined_ref, how=\"outer\", left_index=True, right_index=True)\n",
    "        joined[\"tax_name\"] = joined[\"tax_name\"].combine_first(joined[\"tax_name.REF\"])\n",
    "        joined = joined.drop(columns=\"tax_name.REF\")\n",
    "        joined = joined.reindex(list(dict.fromkeys([\"tax_name\", \"max_rPM\", \"max_rPM.REF\"] + sorted(joined.columns))), axis=1)\n",
    "    taxa_tables[sample] = joined\n",
    "    \n",
    "pd.set_option(\"display.max_rows\", None)\n",
    "def error_colors(joined):\n",
    "    colors_df = pd.DataFrame('', index=joined.index, columns=joined.columns)\n",
    "    for measure in [\"max_rPM\",\n",
    "            \"NT_contigs_reads\", \"NT_contigs_N50\",\n",
    "            \"NR_contigs_reads\", \"NR_contigs_N50\"]:\n",
    "        for taxon in joined.index:\n",
    "            v = joined[measure][taxon]\n",
    "            vref = joined[f\"{measure}.REF\"][taxon]\n",
    "            if (math.isnan(v) and math.isnan(vref)) or v == vref:\n",
    "                err = 0.0\n",
    "            else:\n",
    "                err = math.fabs((v-vref)/vref) if vref else float('inf')\n",
    "            color = colorcode(err)\n",
    "            colors_df[measure][taxon] = 'background-color: light' + color\n",
    "            colors_df[f\"{measure}.REF\"][taxon] = 'background-color:' + color\n",
    "    return colors_df"
   ]
  },
  {
   "cell_type": "markdown",
   "metadata": {},
   "source": [
    "**Below, for each sample:**\n",
    "\n",
    "1. abundance spectrum: empirical CDF of log10(max_rPM) for all species output by the pipeline.\n",
    "  * max_rPM = max between NR & NT\n",
    "  * red line: MIN_RPM cutoff for display in subsequent table.\n",
    "2. table of each species above MIN_RPM, with read & contig stats for NR & NT\n",
    "  * green = within 1% of reference, yellow = within 10%, red = other."
   ]
  },
  {
   "cell_type": "code",
   "execution_count": null,
   "metadata": {},
   "outputs": [],
   "source": [
    "for sample, joined in taxa_tables.items():\n",
    "    display(HTML(f\"<h3>{sample}</h3>\"))\n",
    "    ax = sns.ecdfplot(data=np.log10(joined[\"max_rPM\"]))\n",
    "    plt.axvline(math.log10(min_rPM), 0, 1, color='r', linestyle='--')\n",
    "    ax.set(xlabel=\"log_10(max(NT_rPM,NR_rPM))\")\n",
    "    plt.show()\n",
    "    pd.set_option(\"display.precision\", 0)\n",
    "    joined = joined[joined[\"max_rPM\"] >= min_rPM]\n",
    "    if ref_data:\n",
    "        joined = joined.style.apply(error_colors, axis=None)\n",
    "    display(joined)\n",
    "    prdf = pd.concat([\n",
    "        pd.DataFrame.from_dict({\"precision\":data[sample][\"NT_precision\"], \"recall\":data[sample][\"NT_recall\"], \"db\":[\"NT\"]*len(data[sample][\"NT_recall\"])}),\n",
    "        pd.DataFrame.from_dict({\"precision\":data[sample][\"NR_precision\"], \"recall\":data[sample][\"NR_recall\"], \"db\":[\"NR\"]*len(data[sample][\"NR_recall\"])}),\n",
    "    ]).reset_index(drop=True)\n",
    "    sns.lineplot(data=prdf, x=\"recall\", y=\"precision\", hue=\"db\", ci=None).set_title(f\"AUPR: NT={round(data[sample]['NT_aupr'],4)} NR={round(data[sample]['NR_aupr'],4)}\")\n",
    "    plt.xlim(0,1)\n",
    "    plt.ylim(0,1)\n",
    "    plt.show()\n",
    "\n"
   ]
  },
  {
   "cell_type": "markdown",
   "metadata": {},
   "source": [
    "## Appendix: raw workflow outputs"
   ]
  },
  {
   "cell_type": "code",
   "execution_count": null,
   "metadata": {},
   "outputs": [],
   "source": [
    "for sample in data:\n",
    "    display(HTML(f\"<h3>{sample}</h3>\"))\n",
    "    print(json.dumps(data[sample][\"outputs\"], indent=2))"
   ]
  }
 ],
 "metadata": {
  "interpreter": {
   "hash": "aee8b7b246df8f9039afb4144a1f6fd8d2ca17a180786b69acc140d282b71a49"
  },
  "kernelspec": {
   "display_name": "Python 3 (ipykernel)",
   "language": "python",
   "name": "python3"
  },
  "language_info": {
   "codemirror_mode": {
    "name": "ipython",
    "version": 3
   },
   "file_extension": ".py",
   "mimetype": "text/x-python",
   "name": "python",
   "nbconvert_exporter": "python",
   "pygments_lexer": "ipython3",
   "version": "3.10.9"
  }
 },
 "nbformat": 4,
 "nbformat_minor": 4
}
