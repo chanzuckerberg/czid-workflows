{
 "cells": [
  {
   "cell_type": "markdown",
   "metadata": {},
   "source": [
    "# CZ ID long-read-mngs benchmark"
   ]
  },
  {
   "cell_type": "code",
   "execution_count": null,
   "metadata": {},
   "outputs": [],
   "source": [
    "import os\n",
    "def param(key, default):\n",
    "    value = os.environ.get(key, default)\n",
    "    print(f\"{key} = {value}\")\n",
    "    return value\n",
    "run_name = param(\"RUN_NAME\", \"long-read-mngs\")\n",
    "datafiles = param(\"HARVEST_DATA\", \"combined_taxa.json\")\n",
    "ground_truth = param(\"GROUND_TRUTH\", None)\n",
    "step_counts = param(\"STEP_COUNTS\", None)\n",
    "reference_lib = param(\"REF_LIB\", None)"
   ]
  },
  {
   "cell_type": "code",
   "execution_count": null,
   "metadata": {},
   "outputs": [],
   "source": [
    "import json\n",
    "import math\n",
    "import numpy as np\n",
    "import seaborn as sns\n",
    "import pandas as pd\n",
    "import matplotlib.pyplot as plt\n",
    "from IPython.display import display, HTML"
   ]
  },
  {
   "cell_type": "code",
   "execution_count": null,
   "metadata": {},
   "outputs": [],
   "source": [
    "data = {}\n",
    "for datafile in datafiles.split(\":\"):\n",
    "    if datafile:\n",
    "        with open(datafile) as infile:\n",
    "            data.update(json.load(infile))\n",
    "ref_data = {}\n",
    "if reference_lib:\n",
    "    if os.path.isfile(reference_lib):\n",
    "        with open(reference_lib) as infile:\n",
    "            ref_data = json.load(infile)"
   ]
  },
  {
   "cell_type": "code",
   "execution_count": null,
   "metadata": {},
   "outputs": [],
   "source": [
    "# master routine for color-coding deviations and touching a sentinel file if any exist\n",
    "SENTINEL_FN = \".long-read-mngs-benchmarks-deviation\"\n",
    "try:\n",
    "    os.remove(SENTINEL_FN)\n",
    "except FileNotFoundError:\n",
    "    pass\n",
    "def colorcode(err):\n",
    "    ans = 'green'\n",
    "    if not isinstance(err, float) or math.isnan(err) or err > 0.01:\n",
    "        ans = 'red'\n",
    "        if isinstance(err, float) and err <= 0.1:\n",
    "            ans = 'yellow'\n",
    "        with open(SENTINEL_FN, 'w'):\n",
    "            pass\n",
    "    return ans"
   ]
  },
  {
   "attachments": {},
   "cell_type": "markdown",
   "metadata": {},
   "source": [
    "## read & contig summary counts"
   ]
  },
  {
   "cell_type": "code",
   "execution_count": null,
   "metadata": {},
   "outputs": [],
   "source": [
    "pd.set_option(\"display.precision\", 2)\n",
    "\n",
    "def error_colors(counts_df):\n",
    "    colors_df = pd.DataFrame('', index=counts_df.index, columns=counts_df.columns)\n",
    "    diff = (counts_df.iloc[:, 0]-counts_df.iloc[:, 1])/counts_df.iloc[:, 0]\n",
    "    for ind, err in diff.iteritems():\n",
    "        color = colorcode(math.fabs(err))\n",
    "        colors_df[\"run_1_step_counts\"][ind] = 'background-color: light' + color\n",
    "        colors_df[\"ref_step_counts\"][ind] = 'background-color:' + color\n",
    "    return colors_df\n",
    "\n",
    "if step_counts:\n",
    "    step_count_df = pd.read_csv(step_counts, sep=\"\\t\", index_col=0)\n",
    "    try:\n",
    "        step_count_df = step_count_df.style.apply(error_colors, axis=None)\n",
    "    except Exception:\n",
    "        pass\n",
    "    display(step_count_df)"
   ]
  },
  {
   "cell_type": "markdown",
   "metadata": {},
   "source": [
    "## taxa accuracy vs truth sets"
   ]
  },
  {
   "cell_type": "code",
   "execution_count": null,
   "metadata": {},
   "outputs": [],
   "source": [
    "if ground_truth:\n",
    "    ground_truth_df = pd.read_json(ground_truth)\n",
    "    prdf = pd.concat([\n",
    "        pd.DataFrame.from_dict({\"precision\":ground_truth_df[\"NT\"][\"aupr\"][\"precision\"], \"recall\":ground_truth_df[\"NT\"][\"aupr\"][\"recall\"], \"db\":[\"NT\"]*len(ground_truth_df[\"NT\"][\"aupr\"][\"recall\"])}),\n",
    "        pd.DataFrame.from_dict({\"precision\":ground_truth_df[\"NR\"][\"aupr\"][\"precision\"], \"recall\":ground_truth_df[\"NR\"][\"aupr\"][\"recall\"], \"db\":[\"NR\"]*len(ground_truth_df[\"NR\"][\"aupr\"][\"recall\"])}),\n",
    "    ]).reset_index(drop=True)\n",
    "    sns.lineplot(data=prdf, x=\"recall\", y=\"precision\", hue=\"db\", ci=None)\\\n",
    "        .set_title(f\"AUPR: NT={round(ground_truth_df['NT']['aupr']['aupr'],4)} NR={round(ground_truth_df['NR']['aupr']['aupr'],4)}\")\n",
    "    plt.xlim(0,1.05)\n",
    "    plt.ylim(0,1.05)\n",
    "    plt.show()\n"
   ]
  },
  {
   "cell_type": "markdown",
   "metadata": {},
   "source": [
    "## taxa abundance spectra"
   ]
  },
  {
   "cell_type": "code",
   "execution_count": null,
   "metadata": {},
   "outputs": [],
   "source": [
    "def taxa_dataframe(sample_data, db):\n",
    "    # for one sample and either NR or NT, generate dataframe of the taxa-specific abundance/assembly info\n",
    "    prep = {}\n",
    "    for tax_id in sample_data:\n",
    "        prep[tax_id] = {f\"{db}_{key}\": sample_data[tax_id][key] for key in [\n",
    "            \"tax_name\", \"bPM\", \"contigs_reads\", \"contigs_N50\"]}\n",
    "    return pd.DataFrame.from_dict(prep, orient=\"index\")\n",
    "\n",
    "def joined_taxa_dataframe(sample_data):\n",
    "    # taxa dataframes for NT & NR\n",
    "    sample_NT = taxa_dataframe(sample_data[\"NT\"], \"NT\")\n",
    "    sample_NR = taxa_dataframe(sample_data[\"NR\"], \"NR\")\n",
    "\n",
    "    # join them & reformat\n",
    "    joined = pd.merge(sample_NT, sample_NR, how=\"outer\", left_index=True, right_index=True)\n",
    "    joined[\"tax_name\"] = joined[\"NT_tax_name\"].combine_first(joined[\"NR_tax_name\"])\n",
    "    joined[\"max_bPM\"] = joined[[\"NT_bPM\", \"NR_bPM\"]].max(axis=1)\n",
    "    \n",
    "    return joined[[\n",
    "        \"tax_name\", \"max_bPM\",\n",
    "        \"NT_contigs_reads\", \"NT_contigs_N50\",\n",
    "        \"NR_contigs_reads\", \"NR_contigs_N50\"\n",
    "    ]].sort_values(by=\"max_bPM\", ascending=False)\n",
    "\n",
    "taxa_tables = {}\n",
    "sample = \"sample\"\n",
    "sample_data = data\n",
    "joined = joined_taxa_dataframe(sample_data)\n",
    "if ref_data:\n",
    "    joined_ref = joined_taxa_dataframe(ref_data)\n",
    "    joined_ref = joined_ref.rename(columns={key: f\"{key}.REF\" for key in joined_ref.columns})\n",
    "    joined = pd.merge(joined, joined_ref, how=\"outer\", left_index=True, right_index=True)\n",
    "    joined[\"tax_name\"] = joined[\"tax_name\"].combine_first(joined[\"tax_name.REF\"])\n",
    "    joined = joined.drop(columns=\"tax_name.REF\")\n",
    "    joined = joined.reindex(list(dict.fromkeys([\"tax_name\", \"max_bPM\", \"max_bPM.REF\"] + sorted(joined.columns))), axis=1)\n",
    "    taxa_tables[sample] = joined\n",
    "    \n",
    "def error_colors(joined):\n",
    "    colors_df = pd.DataFrame('', index=joined.index, columns=joined.columns)\n",
    "    for measure in [\"max_bPM\",\n",
    "            \"NT_contigs_reads\", \"NT_contigs_N50\",\n",
    "            \"NR_contigs_reads\", \"NR_contigs_N50\"]:\n",
    "        for taxon in joined.index:\n",
    "            v = joined[measure][taxon]\n",
    "            vref = joined[f\"{measure}.REF\"][taxon]\n",
    "            if (math.isnan(v) and math.isnan(vref)) or v == vref:\n",
    "                err = 0.0\n",
    "            else:\n",
    "                err = math.fabs((v-vref)/vref) if vref else float('inf')\n",
    "            color = colorcode(err)\n",
    "            colors_df[measure][taxon] = 'background-color: light' + color\n",
    "            colors_df[f\"{measure}.REF\"][taxon] = 'background-color:' + color\n",
    "    return colors_df"
   ]
  },
  {
   "attachments": {},
   "cell_type": "markdown",
   "metadata": {},
   "source": [
    "**Below:**\n",
    "\n",
    "1. abundance spectrum: empirical CDF of log10(max_bPM) for all species output by the pipeline.\n",
    "  * max_bPM = max between NR & NT\n",
    "  * red line: MIN_BPM cutoff for display in subsequent table.\n",
    "2. table of each species above MIN_BPM, with read & contig stats for NR & NT\n",
    "  * green = within 1% of reference, yellow = within 10%, red = other."
   ]
  },
  {
   "cell_type": "code",
   "execution_count": null,
   "metadata": {},
   "outputs": [],
   "source": [
    "ax = sns.ecdfplot(data=np.log10(joined[\"max_bPM\"]))\n",
    "min_bPM = 5000\n",
    "plt.axvline(math.log10(min_bPM), 0, 1, color='r', linestyle='--')\n",
    "ax.set(xlabel=\"log_10(max(NT_bPM,NR_bPM))\")\n",
    "plt.show()\n",
    "\n",
    "pd.set_option(\"display.precision\", 0)\n",
    "joined = joined[joined[\"max_bPM\"] >= min_bPM]\n",
    "if ref_data:\n",
    "    joined = joined.style.apply(error_colors, axis=None)\n",
    "display(joined)"
   ]
  }
 ],
 "metadata": {
  "interpreter": {
   "hash": "aee8b7b246df8f9039afb4144a1f6fd8d2ca17a180786b69acc140d282b71a49"
  },
  "kernelspec": {
   "display_name": "Python 3 (ipykernel)",
   "language": "python",
   "name": "python3"
  },
  "language_info": {
   "codemirror_mode": {
    "name": "ipython",
    "version": 3
   },
   "file_extension": ".py",
   "mimetype": "text/x-python",
   "name": "python",
   "nbconvert_exporter": "python",
   "pygments_lexer": "ipython3",
   "version": "3.10.9"
  }
 },
 "nbformat": 4,
 "nbformat_minor": 4
}
