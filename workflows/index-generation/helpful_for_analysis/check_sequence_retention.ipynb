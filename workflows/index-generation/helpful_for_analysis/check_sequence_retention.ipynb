{
 "cells": [
  {
   "cell_type": "code",
   "execution_count": 127,
   "id": "175d7ba4",
   "metadata": {},
   "outputs": [],
   "source": [
    "import os\n",
    "import subprocess\n",
    "import itertools\n",
    "\n",
    "from Bio import SeqIO\n"
   ]
  },
  {
   "cell_type": "code",
   "execution_count": 128,
   "id": "224b684b",
   "metadata": {},
   "outputs": [],
   "source": [
    "def get_read_ids(fasta_filename):\n",
    "    # get all read ids from fasta\n",
    "    with open(fasta_filename) as handle:\n",
    "        return [record.id for record in SeqIO.FastaIO.FastaIterator(handle)]\n",
    "\n",
    "    \n",
    "def get_read_id_w_params(pathogen, similarity_threshold):\n",
    "    # get read ids for a pathogen and compression score\n",
    "    fasta_filename = f\"nt_compressed_{similarity_threshold}_{pathogen}.fa\"\n",
    "    return get_read_ids(fasta_filename)\n",
    "\n",
    "\n",
    "def get_output_read_groupings(pathogen, similarity_threshold):   \n",
    "    # get read ids and group by similar read_ids\n",
    "    read_ids = get_read_id_w_params(pathogen, similarity_threshold)\n",
    "    \n",
    "    # group by key (ex: 0.99-1 => 99)\n",
    "    key_func = lambda x: x.strip(\"0.\").split(\"-\")[0]\n",
    "    for k, g in itertools.groupby(read_ids, key=key_func):\n",
    "        print(k, list(g))\n",
    "\n",
    "\n",
    "def compare_reads_before_and_after_compression(before, after):\n",
    "    reads_before_compression = get_read_ids(before)\n",
    "    reads_after_compression = get_read_ids(after)\n",
    "\n",
    "    return [read for read in reads_before_compression if read not in reads_after_compression]\n",
    "\n"
   ]
  },
  {
   "cell_type": "code",
   "execution_count": 129,
   "id": "961f2e51",
   "metadata": {},
   "outputs": [],
   "source": [
    "def compare_params(pathogen, uncompressed_fn, similarity_threshold, scaled=1000, ksize=31):\n",
    "    # run compression, output read_ids that have dropped out after compression\n",
    "    \n",
    "    compressed_fn = f\"nt_compressed_{similarity_threshold}_{pathogen}.fa\"\n",
    "    taxids_to_drop = ['9606']\n",
    "    mapping_test_data_dir = \"test_data/accession2taxid\"\n",
    "    mapping_nulc_wgs = os.path.join(mapping_test_data_dir, \"nucl_wgs.accession2taxid.subset\")\n",
    "    mapping_nucl_gb = os.path.join(mapping_test_data_dir, \"nucl_gb.accession2taxid.subset\")\n",
    "    mapping_pdb = os.path.join(mapping_test_data_dir, \"pdb.accession2taxid.subset\")\n",
    "\n",
    "    ncbi_compress_command = f\"\"\"\n",
    "    ./target/release/ncbi-compress  \\\n",
    "        --input-fasta {uncompressed_fn}  \\\n",
    "        --accession-mapping-files {mapping_nulc_wgs}  \\\n",
    "        --accession-mapping-files {mapping_nucl_gb}  \\\n",
    "        --accession-mapping-files {mapping_pdb}  \\\n",
    "        --taxids-to-drop {', '.join(taxids_to_drop)}  \\\n",
    "        --output-fasta {compressed_fn}  \\\n",
    "        --k {ksize}  \\\n",
    "        --scaled {scaled}  \\\n",
    "        --similarity-threshold {similarity_threshold}\n",
    "    \"\"\".replace(\"\\n\", \"\")\n",
    "    \n",
    "    completed_process = subprocess.run(ncbi_compress_command, capture_output=True, shell=True)\n",
    "    if completed_process.returncode == 0:\n",
    "        t = compare_reads_before_and_after_compression(uncompressed_fn, compressed_fn)\n",
    "        print(t)\n",
    "    else:\n",
    "        completed_process\n",
    "    \n",
    "    \n",
    "def log_params(pathogen, uncompressed_fn):\n",
    "    # log different parameters for compression, run compress for each iteration, output the dropped read_ids\n",
    "    print(f\"starting compression comparison results for {pathogen}\")\n",
    "    scaled_params = [100, 1000, 10000]\n",
    "    similarity_threshold_params = [0.6, 0.5, 0.4, 0.3]\n",
    "    ksize_params = [21, 31, 51]\n",
    "    \n",
    "#     for ksize in ksize_params:\n",
    "#         print(f\"------ ksize {ksize} ------\")\n",
    "#         print(\"\")\n",
    "#         for scaled in scaled_params:\n",
    "#             print(f\"------ scaled {scaled} ------\")\n",
    "    for st in similarity_threshold_params:\n",
    "        print(f\"threshold: {st}\")\n",
    "        compare_params(pathogen, uncompressed_fn, st, 1000, ksize=31)\n",
    "#             print(\"\")\n",
    "#         print(\"\")\n",
    "        \n",
    "    \n"
   ]
  },
  {
   "cell_type": "code",
   "execution_count": 130,
   "id": "17c466a4",
   "metadata": {},
   "outputs": [
    {
     "name": "stdout",
     "output_type": "stream",
     "text": [
      "starting compression comparison results for rhinovirus\n",
      "threshold: 0.6\n",
      "['0.99-3', '0.99-4', '0.99-5', '0.99-6', '0.99-7', '0.99-8', '0.99-9']\n",
      "threshold: 0.5\n",
      "['0.97-2', '0.99-10', '0.99-3', '0.99-4', '0.99-5', '0.99-7', '0.99-8', '0.99-9']\n",
      "threshold: 0.4\n",
      "['0.97-2', '0.99-10', '0.99-2', '0.99-3', '0.99-4', '0.99-5', '0.99-7', '0.99-8', '0.99-9']\n",
      "threshold: 0.3\n",
      "['0.97-10', '0.97-2', '0.97-5', '0.97-6', '0.99-10', '0.99-2', '0.99-3', '0.99-4', '0.99-5', '0.99-6', '0.99-7', '0.99-8', '0.99-9']\n"
     ]
    }
   ],
   "source": [
    "# rhinovirus\n",
    "log_params(\"rhinovirus\", \"test_data/simulated_seqs/all_simulated_seqs_rhinovirus_sorted.fasta\")\n"
   ]
  },
  {
   "cell_type": "code",
   "execution_count": 119,
   "id": "b1867da1",
   "metadata": {},
   "outputs": [
    {
     "name": "stdout",
     "output_type": "stream",
     "text": [
      "0.4\n",
      "8 ['0.8-1', '0.8-10', '0.8-2', '0.8-3', '0.8-4', '0.8-5', '0.8-6', '0.8-7', '0.8-8', '0.8-9']\n",
      "85 ['0.85-1', '0.85-10', '0.85-2', '0.85-3', '0.85-4', '0.85-5', '0.85-6', '0.85-7', '0.85-8', '0.85-9']\n",
      "9 ['0.9-1', '0.9-10', '0.9-2', '0.9-3', '0.9-4', '0.9-5', '0.9-6', '0.9-7', '0.9-8', '0.9-9']\n",
      "92 ['0.92-1', '0.92-10', '0.92-2', '0.92-3', '0.92-4', '0.92-5', '0.92-6', '0.92-7', '0.92-8', '0.92-9']\n",
      "95 ['0.95-1', '0.95-10', '0.95-2', '0.95-3', '0.95-4', '0.95-5', '0.95-6', '0.95-7', '0.95-8', '0.95-9']\n",
      "97 ['0.97-1', '0.97-10', '0.97-3', '0.97-4', '0.97-5', '0.97-6', '0.97-7', '0.97-8', '0.97-9']\n",
      "99 ['0.99-1', '0.99-6']\n",
      "NC_001617.1 ['NC_001617.1']\n",
      "----------------------\n",
      "0.5\n",
      "8 ['0.8-1', '0.8-10', '0.8-2', '0.8-3', '0.8-4', '0.8-5', '0.8-6', '0.8-7', '0.8-8', '0.8-9']\n",
      "85 ['0.85-1', '0.85-10', '0.85-2', '0.85-3', '0.85-4', '0.85-5', '0.85-6', '0.85-7', '0.85-8', '0.85-9']\n",
      "9 ['0.9-1', '0.9-10', '0.9-2', '0.9-3', '0.9-4', '0.9-5', '0.9-6', '0.9-7', '0.9-8', '0.9-9']\n",
      "92 ['0.92-1', '0.92-10', '0.92-2', '0.92-3', '0.92-4', '0.92-5', '0.92-6', '0.92-7', '0.92-8', '0.92-9']\n",
      "95 ['0.95-1', '0.95-10', '0.95-2', '0.95-3', '0.95-4', '0.95-5', '0.95-6', '0.95-7', '0.95-8', '0.95-9']\n",
      "97 ['0.97-1', '0.97-10', '0.97-3', '0.97-4', '0.97-5', '0.97-6', '0.97-7', '0.97-8', '0.97-9']\n",
      "99 ['0.99-1', '0.99-2', '0.99-6']\n",
      "NC_001617.1 ['NC_001617.1']\n"
     ]
    }
   ],
   "source": [
    "# get compressed final groupings\n",
    "print(\"0.4\") \n",
    "get_output_read_groupings(\"rhinovirus\", 0.4)\n",
    "print(\"----------------------\")\n",
    "print(\"0.5\")\n",
    "get_output_read_groupings(\"rhinovirus\", 0.5)"
   ]
  },
  {
   "cell_type": "code",
   "execution_count": 101,
   "id": "075f2bdc",
   "metadata": {},
   "outputs": [
    {
     "name": "stdout",
     "output_type": "stream",
     "text": [
      "starting compression comparison results for streptococcus\n",
      "threshold: 0.6\n",
      "['NZ_UYIP01000001.1']\n",
      "threshold: 0.5\n",
      "['0.99-10', '0.99-2', '0.99-3', '0.99-4', '0.99-5', '0.99-6', '0.99-7', '0.99-8', '0.99-9', 'NZ_UYIP01000001.1']\n",
      "threshold: 0.4\n",
      "['0.99-10', '0.99-2', '0.99-3', '0.99-4', '0.99-5', '0.99-6', '0.99-7', '0.99-8', '0.99-9', 'NZ_UYIP01000001.1']\n",
      "threshold: 0.3\n",
      "['0.99-1', '0.99-10', '0.99-2', '0.99-3', '0.99-4', '0.99-5', '0.99-6', '0.99-7', '0.99-8', '0.99-9', 'NZ_UYIP01000001.1']\n"
     ]
    }
   ],
   "source": [
    "# strep\n",
    "log_params(\"streptococcus\", \"test_data/simulated_seqs/all_simulated_seqs_streptococcus_sorted.fasta\")"
   ]
  },
  {
   "cell_type": "code",
   "execution_count": 120,
   "id": "8b45a814",
   "metadata": {},
   "outputs": [
    {
     "name": "stdout",
     "output_type": "stream",
     "text": [
      "0.4\n",
      "8 ['0.8-1', '0.8-10', '0.8-2', '0.8-3', '0.8-4', '0.8-5', '0.8-6', '0.8-7', '0.8-8', '0.8-9']\n",
      "85 ['0.85-1', '0.85-10', '0.85-2', '0.85-3', '0.85-4', '0.85-5', '0.85-6', '0.85-7', '0.85-8', '0.85-9']\n",
      "9 ['0.9-1', '0.9-10', '0.9-2', '0.9-3', '0.9-4', '0.9-5', '0.9-6', '0.9-7', '0.9-8', '0.9-9']\n",
      "92 ['0.92-1', '0.92-10', '0.92-2', '0.92-3', '0.92-4', '0.92-5', '0.92-6', '0.92-7', '0.92-8', '0.92-9']\n",
      "95 ['0.95-1', '0.95-10', '0.95-2', '0.95-3', '0.95-4', '0.95-5', '0.95-6', '0.95-7', '0.95-8', '0.95-9']\n",
      "97 ['0.97-1', '0.97-10', '0.97-2', '0.97-3', '0.97-4', '0.97-5', '0.97-6', '0.97-7', '0.97-8', '0.97-9']\n",
      "99 ['0.99-1']\n",
      "----------------------\n",
      "0.5\n",
      "8 ['0.8-1', '0.8-10', '0.8-2', '0.8-3', '0.8-4', '0.8-5', '0.8-6', '0.8-7', '0.8-8', '0.8-9']\n",
      "85 ['0.85-1', '0.85-10', '0.85-2', '0.85-3', '0.85-4', '0.85-5', '0.85-6', '0.85-7', '0.85-8', '0.85-9']\n",
      "9 ['0.9-1', '0.9-10', '0.9-2', '0.9-3', '0.9-4', '0.9-5', '0.9-6', '0.9-7', '0.9-8', '0.9-9']\n",
      "92 ['0.92-1', '0.92-10', '0.92-2', '0.92-3', '0.92-4', '0.92-5', '0.92-6', '0.92-7', '0.92-8', '0.92-9']\n",
      "95 ['0.95-1', '0.95-10', '0.95-2', '0.95-3', '0.95-4', '0.95-5', '0.95-6', '0.95-7', '0.95-8', '0.95-9']\n",
      "97 ['0.97-1', '0.97-10', '0.97-2', '0.97-3', '0.97-4', '0.97-5', '0.97-6', '0.97-7', '0.97-8', '0.97-9']\n",
      "99 ['0.99-1']\n"
     ]
    }
   ],
   "source": [
    "# get_read_id_w_params(\"streptococcus\", 0.4)\n",
    "\n",
    "\n",
    "# get compressed final groupings\n",
    "print(\"0.4\") \n",
    "get_output_read_groupings(\"streptococcus\", 0.4)\n",
    "print(\"----------------------\")\n",
    "print(\"0.5\")\n",
    "get_output_read_groupings(\"streptococcus\", 0.5)"
   ]
  },
  {
   "cell_type": "code",
   "execution_count": 103,
   "id": "2b66ee33",
   "metadata": {},
   "outputs": [
    {
     "name": "stdout",
     "output_type": "stream",
     "text": [
      "starting compression comparison results for chkv\n",
      "threshold: 0.6\n",
      "['0.99-4', '0.99-8', '0.99-9']\n",
      "threshold: 0.5\n",
      "['0.99-2', '0.99-4', '0.99-5', '0.99-6', '0.99-7', '0.99-8', '0.99-9']\n",
      "threshold: 0.4\n",
      "['0.97-9', '0.99-10', '0.99-2', '0.99-4', '0.99-5', '0.99-6', '0.99-7', '0.99-8', '0.99-9']\n",
      "threshold: 0.3\n",
      "['0.97-2', '0.97-4', '0.97-9', '0.99-1', '0.99-10', '0.99-2', '0.99-3', '0.99-4', '0.99-5', '0.99-6', '0.99-7', '0.99-8', '0.99-9']\n"
     ]
    }
   ],
   "source": [
    "# chkv\n",
    "log_params(\"chkv\", \"test_data/simulated_seqs/all_simulated_seqs_chkv_sorted.fasta\")\n"
   ]
  },
  {
   "cell_type": "code",
   "execution_count": 121,
   "id": "42d04243",
   "metadata": {},
   "outputs": [
    {
     "name": "stdout",
     "output_type": "stream",
     "text": [
      "0.4\n",
      "NC_004162.2 ['NC_004162.2']\n",
      "8 ['0.8-1', '0.8-10', '0.8-2', '0.8-3', '0.8-4', '0.8-5', '0.8-6', '0.8-7', '0.8-8', '0.8-9']\n",
      "85 ['0.85-1', '0.85-10', '0.85-2', '0.85-3', '0.85-4', '0.85-5', '0.85-6', '0.85-7', '0.85-8', '0.85-9']\n",
      "9 ['0.9-1', '0.9-10', '0.9-2', '0.9-3', '0.9-4', '0.9-5', '0.9-6', '0.9-7', '0.9-8', '0.9-9']\n",
      "92 ['0.92-1', '0.92-10', '0.92-2', '0.92-3', '0.92-4', '0.92-5', '0.92-6', '0.92-7', '0.92-8', '0.92-9']\n",
      "95 ['0.95-1', '0.95-10', '0.95-2', '0.95-3', '0.95-4', '0.95-5', '0.95-6', '0.95-7', '0.95-8', '0.95-9']\n",
      "97 ['0.97-1', '0.97-10', '0.97-2', '0.97-3', '0.97-4', '0.97-5', '0.97-6', '0.97-7', '0.97-8']\n",
      "99 ['0.99-1', '0.99-3']\n",
      "----------------------\n",
      "0.5\n",
      "NC_004162.2 ['NC_004162.2']\n",
      "8 ['0.8-1', '0.8-10', '0.8-2', '0.8-3', '0.8-4', '0.8-5', '0.8-6', '0.8-7', '0.8-8', '0.8-9']\n",
      "85 ['0.85-1', '0.85-10', '0.85-2', '0.85-3', '0.85-4', '0.85-5', '0.85-6', '0.85-7', '0.85-8', '0.85-9']\n",
      "9 ['0.9-1', '0.9-10', '0.9-2', '0.9-3', '0.9-4', '0.9-5', '0.9-6', '0.9-7', '0.9-8', '0.9-9']\n",
      "92 ['0.92-1', '0.92-10', '0.92-2', '0.92-3', '0.92-4', '0.92-5', '0.92-6', '0.92-7', '0.92-8', '0.92-9']\n",
      "95 ['0.95-1', '0.95-10', '0.95-2', '0.95-3', '0.95-4', '0.95-5', '0.95-6', '0.95-7', '0.95-8', '0.95-9']\n",
      "97 ['0.97-1', '0.97-10', '0.97-2', '0.97-3', '0.97-4', '0.97-5', '0.97-6', '0.97-7', '0.97-8', '0.97-9']\n",
      "99 ['0.99-1', '0.99-10', '0.99-3']\n"
     ]
    }
   ],
   "source": [
    "# get_read_id_w_params(\"chkv\", 0.4)\n",
    "\n",
    "# get_output_read_groupings(\"chkv\", 0.4)\n",
    "\n",
    "# get compressed final groupings\n",
    "print(\"0.4\") \n",
    "get_output_read_groupings(\"chkv\", 0.4)\n",
    "print(\"----------------------\")\n",
    "print(\"0.5\")\n",
    "get_output_read_groupings(\"chkv\", 0.5)"
   ]
  },
  {
   "cell_type": "code",
   "execution_count": 115,
   "id": "2ed7aad6",
   "metadata": {},
   "outputs": [
    {
     "name": "stdout",
     "output_type": "stream",
     "text": [
      "NC_004162.2 ['NC_004162.2']\n",
      "8 ['0.8-1', '0.8-10', '0.8-2', '0.8-3', '0.8-4', '0.8-5', '0.8-6', '0.8-7', '0.8-8', '0.8-9']\n",
      "85 ['0.85-1', '0.85-10', '0.85-2', '0.85-3', '0.85-4', '0.85-5', '0.85-6', '0.85-7', '0.85-8', '0.85-9']\n",
      "9 ['0.9-1', '0.9-10', '0.9-2', '0.9-3', '0.9-4', '0.9-5', '0.9-6', '0.9-7', '0.9-8', '0.9-9']\n",
      "92 ['0.92-1', '0.92-10', '0.92-2', '0.92-3', '0.92-4', '0.92-5', '0.92-6', '0.92-7', '0.92-8', '0.92-9']\n",
      "95 ['0.95-1', '0.95-10', '0.95-2', '0.95-3', '0.95-4', '0.95-5', '0.95-6', '0.95-7', '0.95-8', '0.95-9']\n",
      "97 ['0.97-1', '0.97-10', '0.97-3', '0.97-5', '0.97-6', '0.97-7', '0.97-8']\n"
     ]
    }
   ],
   "source": [
    "get_output_read_groupings(\"chkv\", 0.3)\n"
   ]
  },
  {
   "cell_type": "code",
   "execution_count": 126,
   "id": "393266b6",
   "metadata": {},
   "outputs": [
    {
     "data": {
      "text/plain": [
       "[]"
      ]
     },
     "execution_count": 126,
     "metadata": {},
     "output_type": "execute_result"
    }
   ],
   "source": [
    "compare_reads_before_and_after_compression(\n",
    "    \"test_data/test_output.fasta\",\n",
    "    \"tests/test_data/expected_compression_results/nt_compressed_0.6_chkv.fa\"\n",
    ")"
   ]
  },
  {
   "cell_type": "code",
   "execution_count": null,
   "id": "aca02a52",
   "metadata": {},
   "outputs": [],
   "source": []
  }
 ],
 "metadata": {
  "kernelspec": {
   "display_name": "Python 3 (ipykernel)",
   "language": "python",
   "name": "python3"
  },
  "language_info": {
   "codemirror_mode": {
    "name": "ipython",
    "version": 3
   },
   "file_extension": ".py",
   "mimetype": "text/x-python",
   "name": "python",
   "nbconvert_exporter": "python",
   "pygments_lexer": "ipython3",
   "version": "3.11.4"
  }
 },
 "nbformat": 4,
 "nbformat_minor": 5
}
