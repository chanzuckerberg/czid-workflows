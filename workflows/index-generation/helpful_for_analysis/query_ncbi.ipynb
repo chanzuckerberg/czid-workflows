{
 "cells": [
  {
   "cell_type": "code",
   "execution_count": 2,
   "id": "c7a037af",
   "metadata": {},
   "outputs": [],
   "source": [
    "import pandas as pd\n",
    "import requests\n",
    "from Bio import Entrez\n",
    "\n",
    "# this script was used to investigate the 'all taxa with neither family nor genus' classification in CZID"
   ]
  },
  {
   "cell_type": "code",
   "execution_count": null,
   "id": "ac906165-cb66-42e3-bfeb-bb2a9b3e995d",
   "metadata": {},
   "outputs": [],
   "source": [
    "from Bio import Entrez\n",
    "\n",
    "Entrez.email = \"plogan@chanzuckerberg.com\"\n",
    "\n",
    "\n",
    "def get_child_taxids(taxid):\n",
    "    handle = Entrez.efetch(db=\"taxonomy\", id=taxid, retmode=\"xml\")\n",
    "    records = Entrez.read(handle)\n",
    "    handle.close()\n",
    "    \n",
    "    # This assumes the first record is the one we're interested in\n",
    "    children = records[0].get(\"LineageEx\")\n",
    "    \n",
    "    child_taxids = []\n",
    "    if children:\n",
    "        for child in children:\n",
    "            child_taxids.append((child[\"TaxId\"], child[\"ScientificName\"]))\n",
    "    \n",
    "    return child_taxids\n",
    "\n",
    "# Betacoronavirus taxid\n",
    "# betacoronavirus_taxid = \"694002\"\n",
    "# child_taxids = get_child_taxids(betacoronavirus_taxid)\n",
    "\n",
    "# for taxid, name in child_taxids:\n",
    "#     print(taxid, name)\n"
   ]
  },
  {
   "cell_type": "code",
   "execution_count": 46,
   "id": "b41d6a0b-585a-410d-82f0-ccd7d5b3df37",
   "metadata": {},
   "outputs": [],
   "source": [
    "def search_taxonomy(query):\n",
    "    # Use Entrez.esearch to search the taxonomy database\n",
    "    handle = Entrez.esearch(db=\"taxonomy\", term=query)\n",
    "    record = Entrez.read(handle)\n",
    "    handle.close()\n",
    "    \n",
    "    # Print the ID of the first match\n",
    "    id_list = record[\"IdList\"]\n",
    "    if id_list:\n",
    "        print(\"Found IDs:\", id_list)\n",
    "        return id_list[0]\n",
    "    else:\n",
    "        print(\"No matches found.\")\n",
    "        return None\n",
    "\n",
    "def fetch_taxonomy_details(tax_id):\n",
    "    # Use Entrez.efetch to get detailed taxonomy information by ID\n",
    "    handle = Entrez.efetch(db=\"taxonomy\", id=tax_id, retmode=\"xml\")\n",
    "    records = Entrez.read(handle)\n",
    "    handle.close()\n",
    "    \n",
    "    # Print some details about the first record\n",
    "    if records:\n",
    "        print(\"Details for ID:\", tax_id)\n",
    "        for record in records:\n",
    "            print(\"Scientific Name:\", record[\"ScientificName\"])\n",
    "            print(\"Rank:\", record[\"Rank\"])\n",
    "            print(\"Lineage:\", record[\"Lineage\"])\n",
    "            return records\n",
    "    else:\n",
    "        print(\"No details found for ID:\", tax_id)\n",
    "\n",
    "def fetch_taxonomy_details_by_taxid(tax_id):\n",
    "    # Use Entrez.efetch to get detailed taxonomy information by ID\n",
    "    handle = Entrez.efetch(db=\"taxonomy\", id=tax_id, retmode=\"xml\")\n",
    "    records = Entrez.read(handle)\n",
    "    handle.close()\n",
    "    \n",
    "    # Print some details about the record\n",
    "    if records:\n",
    "        for record in records:\n",
    "            print(\"TaxID:\", tax_id)\n",
    "            print(\"Scientific Name:\", record[\"ScientificName\"])\n",
    "            print(\"Rank:\", record[\"Rank\"])\n",
    "            print(\"Lineage:\", record[\"Lineage\"])\n",
    "            return records\n",
    "    else:\n",
    "        print(\"No details found for TaxID:\", tax_id)\n",
    "\n",
    "\n",
    "# query = \"Burkholderiales\"\n",
    "# tax_id = search_taxonomy(query)\n",
    "# if tax_id:\n",
    "#     records = fetch_taxonomy_details(tax_id)"
   ]
  },
  {
   "cell_type": "code",
   "execution_count": 50,
   "id": "1d205fe3-0ad7-472d-8b2c-8e2efe42cc7e",
   "metadata": {},
   "outputs": [],
   "source": [
    "cookies = {\n",
    "    'Cookie': 'x'\n",
    "}\n",
    "\n",
    "def get_sample_report_data(sample_id):\n",
    "    url = f'https://staging.czid.org/samples/{sample_id}/report_v2.json?&id={sample_id}&merge_nt_nr=false'\n",
    "    response = requests.get(url, cookies=cookies)\n",
    "    if response.status_code == 200:\n",
    "        unnamed = []\n",
    "        for count, info in response.json()[\"counts\"].items():\n",
    "            for taxid, info_tax in info.items():\n",
    "                if info_tax[\"name\"] == \"all taxa with neither family nor genus classification\":\n",
    "                    unnamed.append(info_tax)\n",
    "                    # print(taxid, info_tax, info_tax[\"species_tax_ids\"])\n",
    "                    # print(\"-----------------\")\n",
    "        return unnamed\n",
    "\n",
    "\n",
    "def get_sample_ids_for_a_project(project_id):\n",
    "    url = f\"https://staging.czid.org/samples/index_v2.json?projectId={project_id}&domain=my_data&offset=0&listAllIds=true&basic=false&workflow=short-read-mngs\"\n",
    "    response = requests.get(url, cookies=cookies)\n",
    "    if response.status_code == 200:\n",
    "        return response\n",
    "\n",
    "\n",
    "def find_family_genus_info(record):\n",
    "    # in the NCBI taxonomy is there a family or a genus ranking?\n",
    "    found_family_genus = False\n",
    "    for i in record[0][\"LineageEx\"]:\n",
    "        if i[\"Rank\"] == 'family' or i[\"Rank\"] ==\"genus\":\n",
    "            found_family_genus = True\n",
    "    return found_family_genus\n",
    "    \n"
   ]
  },
  {
   "cell_type": "code",
   "execution_count": 3,
   "id": "674feb68-ff46-4d9d-b38e-fb6e56a5961a",
   "metadata": {},
   "outputs": [],
   "source": [
    "from collections import defaultdict\n",
    "\n",
    "report_data = defaultdict(list)\n",
    "tax_id_to_tax_id = defaultdict(list)\n",
    "# get all sample ids within a project\n",
    "samples_response = get_sample_ids_for_a_project(1281)\n",
    "sample_ids = samples_response.json()[\"all_samples_ids\"]\n",
    "\n",
    "for sample_id in sample_ids:\n",
    "    # get the species_tax_ids when the 'name' is 'all taxa with neither family nor genus classification'\n",
    "    unnamed_records = get_sample_report_data(sample_id)\n",
    "    # fetch the taxonomy from NCBI for each taxid in the 'all taxa with neither family nor genus classification' bucket\n",
    "    for tax_id in unnamed_records[0][\"species_tax_ids\"]:\n",
    "        try: \n",
    "            records = fetch_taxonomy_details_by_taxid(tax_id)\n",
    "            tax_id_to_tax_id[tax_id].append(records[0]['TaxId'])\n",
    "            report_data[sample_id].append(records)\n",
    "        except Exception as e:\n",
    "            print(e)\n",
    "            print(f\"taxid {tax_id} not found\")"
   ]
  },
  {
   "cell_type": "code",
   "execution_count": 1,
   "id": "0bb34706-8624-4c51-a312-01881713a647",
   "metadata": {},
   "outputs": [],
   "source": [
    "# report_data[37678]"
   ]
  },
  {
   "cell_type": "code",
   "execution_count": 3,
   "id": "d9944ba3-8840-4521-b948-7d3291ae447c",
   "metadata": {},
   "outputs": [],
   "source": [
    "# tax_id_to_tax_id"
   ]
  },
  {
   "cell_type": "code",
   "execution_count": 131,
   "id": "a92643ff-f78d-4a3b-96f4-0d1f900141b4",
   "metadata": {},
   "outputs": [],
   "source": [
    "# are there any records that have family/ genus that are in the 'all taxa with neither family nor genus classification' bucket?\n",
    "records_w_family_genus = defaultdict(list)\n",
    "for sample_id, records in report_data.items():\n",
    "    for record in records:\n",
    "        is_family_genus_found = find_family_genus_info(record)\n",
    "        if is_family_genus_found:\n",
    "            # print(record)\n",
    "            # print(record[0][\"TaxId\"])\n",
    "            records_w_family_genus[sample_id].append(record)\n",
    "    "
   ]
  },
  {
   "cell_type": "code",
   "execution_count": 137,
   "id": "5249c1cb-030d-40b4-b75e-e1c809f66caf",
   "metadata": {},
   "outputs": [],
   "source": [
    "records_that_have_genus_species_unique_taxid_to_name = defaultdict(str)\n",
    "\n",
    "for k, v in records_w_family_genus.items():\n",
    "    for r in v:\n",
    "        records_that_have_genus_species_unique_taxid_to_name[r[0][\"TaxId\"]] = r[0][\"ScientificName\"]"
   ]
  },
  {
   "cell_type": "code",
   "execution_count": 138,
   "id": "6d8fa999-d646-4b98-8251-dc12d4d0eb94",
   "metadata": {},
   "outputs": [
    {
     "data": {
      "text/plain": [
       "defaultdict(str,\n",
       "            {'2447898': 'Candidatus Kapaibacterium sp.',\n",
       "             '100': 'Ancylobacter aquaticus',\n",
       "             '2776816': 'Streptococcus phage SA01',\n",
       "             '2735749': 'Campylobacter sp. LMG 7929',\n",
       "             '2735748': 'Campylobacter sp. LMG 17559',\n",
       "             '2735747': 'Campylobacter sp. RM5063',\n",
       "             '2735734': 'Campylobacter sp. RM12637',\n",
       "             '2509768': 'Rhizobium phage RHph_TM39'})"
      ]
     },
     "execution_count": 138,
     "metadata": {},
     "output_type": "execute_result"
    }
   ],
   "source": [
    "records_that_have_genus_species_unique_taxid_to_name"
   ]
  },
  {
   "cell_type": "code",
   "execution_count": 143,
   "id": "fed473b1-ebf8-42fc-82d6-2a233867d5a5",
   "metadata": {},
   "outputs": [],
   "source": [
    "records_w_family_genus_cleaned = {}\n",
    "for sample_id, records in records_w_family_genus.items():\n",
    "    taxid_name = {}\n",
    "    for record in records:\n",
    "        taxid_name[record[0][\"TaxId\"]] = record[0][\"ScientificName\"]\n",
    "    records_w_family_genus_cleaned[sample_id] = taxid_name"
   ]
  },
  {
   "cell_type": "code",
   "execution_count": 144,
   "id": "d8b32ef9-b7ad-4f39-be18-81cd7f6d276c",
   "metadata": {},
   "outputs": [
    {
     "data": {
      "text/plain": [
       "{37678: {'2447898': 'Candidatus Kapaibacterium sp.',\n",
       "  '100': 'Ancylobacter aquaticus'},\n",
       " 37677: {'100': 'Ancylobacter aquaticus'},\n",
       " 37676: {'100': 'Ancylobacter aquaticus'},\n",
       " 37675: {'100': 'Ancylobacter aquaticus'},\n",
       " 37674: {'100': 'Ancylobacter aquaticus'},\n",
       " 37673: {'2447898': 'Candidatus Kapaibacterium sp.',\n",
       "  '100': 'Ancylobacter aquaticus'},\n",
       " 37672: {'2776816': 'Streptococcus phage SA01',\n",
       "  '100': 'Ancylobacter aquaticus'},\n",
       " 37671: {'2735749': 'Campylobacter sp. LMG 7929',\n",
       "  '2735748': 'Campylobacter sp. LMG 17559',\n",
       "  '2735747': 'Campylobacter sp. RM5063',\n",
       "  '2735734': 'Campylobacter sp. RM12637',\n",
       "  '2447898': 'Candidatus Kapaibacterium sp.',\n",
       "  '100': 'Ancylobacter aquaticus'},\n",
       " 37670: {'100': 'Ancylobacter aquaticus'},\n",
       " 37669: {'100': 'Ancylobacter aquaticus'},\n",
       " 37668: {'100': 'Ancylobacter aquaticus'},\n",
       " 37605: {'100': 'Ancylobacter aquaticus'},\n",
       " 37604: {'100': 'Ancylobacter aquaticus'},\n",
       " 37603: {'2447898': 'Candidatus Kapaibacterium sp.',\n",
       "  '100': 'Ancylobacter aquaticus'},\n",
       " 37602: {'2447898': 'Candidatus Kapaibacterium sp.',\n",
       "  '100': 'Ancylobacter aquaticus'},\n",
       " 37601: {'100': 'Ancylobacter aquaticus'},\n",
       " 37600: {'100': 'Ancylobacter aquaticus'},\n",
       " 37599: {'100': 'Ancylobacter aquaticus'},\n",
       " 37598: {'100': 'Ancylobacter aquaticus'},\n",
       " 37597: {'100': 'Ancylobacter aquaticus'},\n",
       " 37596: {'100': 'Ancylobacter aquaticus'},\n",
       " 37595: {'100': 'Ancylobacter aquaticus'},\n",
       " 37594: {'100': 'Ancylobacter aquaticus'},\n",
       " 37593: {'2509768': 'Rhizobium phage RHph_TM39',\n",
       "  '100': 'Ancylobacter aquaticus'}}"
      ]
     },
     "execution_count": 144,
     "metadata": {},
     "output_type": "execute_result"
    }
   ],
   "source": [
    "records_w_family_genus_cleaned"
   ]
  },
  {
   "cell_type": "code",
   "execution_count": 152,
   "id": "f2f33b05-1c47-4c63-bbed-1cd506456336",
   "metadata": {},
   "outputs": [
    {
     "data": {
      "text/plain": [
       "{'2447898': 'Candidatus Kapaibacterium sp.', '100': 'Ancylobacter aquaticus'}"
      ]
     },
     "execution_count": 152,
     "metadata": {},
     "output_type": "execute_result"
    }
   ],
   "source": [
    "records_w_family_genus_cleaned[37602]"
   ]
  },
  {
   "cell_type": "code",
   "execution_count": 155,
   "id": "2efe3a40-d2d6-4278-9c63-9d48288a244c",
   "metadata": {},
   "outputs": [
    {
     "data": {
      "text/plain": [
       "[2447898]"
      ]
     },
     "execution_count": 155,
     "metadata": {},
     "output_type": "execute_result"
    }
   ],
   "source": [
    "# look into 37602 a bit more\n",
    "\n",
    "# from CZID data:\n",
    "\n",
    "# get the species_tax_ids when the 'name' is 'all taxa with neither family nor genus classification'\n",
    "unnamed_records = get_sample_report_data(37602)\n",
    "# fetch the taxonomy from NCBI for each taxid in the 'all taxa with neither family nor genus classification' bucket\n",
    "species_tax_id_unnamed_records_37602 = unnamed_records[0][\"species_tax_ids\"]\n",
    "# check to see if record is there\n",
    "[i for i in species_tax_id_unnamed_records_37602 if i == 2447898 or i == 100]"
   ]
  },
  {
   "cell_type": "code",
   "execution_count": 158,
   "id": "457f3a18-b523-435d-b37b-8f6d1e2ac072",
   "metadata": {},
   "outputs": [],
   "source": [
    "records_w_family_genus_extra_cleaned = {}\n",
    "for sample_id, tax_to_name in records_w_family_genus_cleaned.items():\n",
    "    new_tax_to_name = {}\n",
    "    for t, n in tax_to_name.items():\n",
    "        if t != '100': # this was happening because i was querying -100 from the sample report which means something different in CZID\n",
    "           new_tax_to_name[t] = n\n",
    "    if new_tax_to_name:\n",
    "        records_w_family_genus_extra_cleaned[sample_id]=new_tax_to_name\n"
   ]
  },
  {
   "cell_type": "code",
   "execution_count": 159,
   "id": "4aa49f2f-3a44-48af-b18e-91b1a8030ce7",
   "metadata": {},
   "outputs": [
    {
     "data": {
      "text/plain": [
       "{37678: {'2447898': 'Candidatus Kapaibacterium sp.'},\n",
       " 37673: {'2447898': 'Candidatus Kapaibacterium sp.'},\n",
       " 37672: {'2776816': 'Streptococcus phage SA01'},\n",
       " 37671: {'2735749': 'Campylobacter sp. LMG 7929',\n",
       "  '2735748': 'Campylobacter sp. LMG 17559',\n",
       "  '2735747': 'Campylobacter sp. RM5063',\n",
       "  '2735734': 'Campylobacter sp. RM12637',\n",
       "  '2447898': 'Candidatus Kapaibacterium sp.'},\n",
       " 37603: {'2447898': 'Candidatus Kapaibacterium sp.'},\n",
       " 37602: {'2447898': 'Candidatus Kapaibacterium sp.'},\n",
       " 37593: {'2509768': 'Rhizobium phage RHph_TM39'}}"
      ]
     },
     "execution_count": 159,
     "metadata": {},
     "output_type": "execute_result"
    }
   ],
   "source": [
    "records_w_family_genus_extra_cleaned"
   ]
  },
  {
   "cell_type": "code",
   "execution_count": 54,
   "id": "47d992e0-40df-4c0a-b0f8-37336ff8e632",
   "metadata": {},
   "outputs": [
    {
     "name": "stdout",
     "output_type": "stream",
     "text": [
      "TaxID: 286\n",
      "Scientific Name: Pseudomonas\n",
      "Rank: genus\n",
      "Lineage: cellular organisms; Bacteria; Pseudomonadota; Gammaproteobacteria; Pseudomonadales; Pseudomonadaceae\n"
     ]
    }
   ],
   "source": [
    "# this is a record that is not in the 'all taxa with neither family nor genus classification' bucket \n",
    "# (just to see what the different responses look like)\n",
    "\n",
    "record_286 = fetch_taxonomy_details_by_taxid(286)"
   ]
  },
  {
   "cell_type": "code",
   "execution_count": 81,
   "id": "a9a5f871-f6f9-4c5c-83fe-88f6a162c836",
   "metadata": {
    "scrolled": true
   },
   "outputs": [
    {
     "data": {
      "text/plain": [
       "True"
      ]
     },
     "execution_count": 81,
     "metadata": {},
     "output_type": "execute_result"
    }
   ],
   "source": [
    "find_family_genus_info(record_286)"
   ]
  },
  {
   "cell_type": "code",
   "execution_count": 79,
   "id": "113e999a-3859-42ba-8a14-ed7578b6d87c",
   "metadata": {},
   "outputs": [
    {
     "data": {
      "text/plain": [
       "[{'TaxId': '131567', 'ScientificName': 'cellular organisms', 'Rank': 'no rank'}, {'TaxId': '2', 'ScientificName': 'Bacteria', 'Rank': 'superkingdom'}, {'TaxId': '1224', 'ScientificName': 'Pseudomonadota', 'Rank': 'phylum'}, {'TaxId': '1236', 'ScientificName': 'Gammaproteobacteria', 'Rank': 'class'}, {'TaxId': '72274', 'ScientificName': 'Pseudomonadales', 'Rank': 'order'}, {'TaxId': '135621', 'ScientificName': 'Pseudomonadaceae', 'Rank': 'family'}]"
      ]
     },
     "execution_count": 79,
     "metadata": {},
     "output_type": "execute_result"
    }
   ],
   "source": [
    "record_286[0][\"LineageEx\"]\n"
   ]
  },
  {
   "cell_type": "code",
   "execution_count": null,
   "id": "aa6107c0-c57c-4de8-8f9f-14017b8a2f4a",
   "metadata": {},
   "outputs": [],
   "source": []
  }
 ],
 "metadata": {
  "kernelspec": {
   "display_name": "Python 3 (ipykernel)",
   "language": "python",
   "name": "python3"
  },
  "language_info": {
   "codemirror_mode": {
    "name": "ipython",
    "version": 3
   },
   "file_extension": ".py",
   "mimetype": "text/x-python",
   "name": "python",
   "nbconvert_exporter": "python",
   "pygments_lexer": "ipython3",
   "version": "3.11.4"
  }
 },
 "nbformat": 4,
 "nbformat_minor": 5
}
