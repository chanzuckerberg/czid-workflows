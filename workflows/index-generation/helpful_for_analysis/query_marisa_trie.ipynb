{
 "cells": [
  {
   "cell_type": "code",
   "execution_count": 1,
   "id": "a7a93897-c8ce-4d91-9f69-96e8fa6aaa55",
   "metadata": {},
   "outputs": [],
   "source": [
    "import shelve\n",
    "from typing import Union\n",
    "import marisa_trie\n",
    "\n",
    "\n",
    "class WrappedTrie:\n",
    "    def __init__(self, trie: marisa_trie.RecordTrie, stringify: bool):\n",
    "        self.trie = trie\n",
    "        self.stringify = stringify\n",
    "\n",
    "    def _extract(self, raw):\n",
    "        if self.stringify:\n",
    "            head = [elem.decode() if isinstance(elem, bytes) else str(elem) for elem in raw[0]]\n",
    "        else:\n",
    "            head = list(raw[0])\n",
    "        if len(head) == 1:\n",
    "            return head[0]\n",
    "        return head\n",
    "\n",
    "    def __getitem__(self, key: str):\n",
    "        return self._extract(self.trie[str(key)])\n",
    "\n",
    "    def __contains__(self, key):\n",
    "        return key in self.trie\n",
    "\n",
    "    def __enter__(self):\n",
    "        return self\n",
    "\n",
    "    def __exit__(self, type, value, tb):\n",
    "        pass\n",
    "\n",
    "    def get(self, name, default=None):\n",
    "        r = self.trie.get(str(name))\n",
    "        if r:\n",
    "            return self._extract(r)\n",
    "        return default\n",
    "\n",
    "\n",
    "def open_file_db_by_extension(db_path: str, fmt: Union[str, None] = None, stringify=True):\n",
    "    if db_path.endswith(\".db\"):\n",
    "        return shelve.open(db_path.replace('.db', ''), 'r')\n",
    "    assert fmt, \"fmt is required for loading marisa trie key value stores\"\n",
    "    return WrappedTrie(marisa_trie.RecordTrie(fmt).mmap(db_path), stringify)"
   ]
  },
  {
   "cell_type": "code",
   "execution_count": 7,
   "id": "3483eb05-dd95-404f-a0f7-491978547507",
   "metadata": {},
   "outputs": [
    {
     "name": "stdout",
     "output_type": "stream",
     "text": [
      "316407\n"
     ]
    }
   ],
   "source": [
    "accession_to_taxid_path = \"./accession2taxid.marisa\"\n",
    "with open_file_db_by_extension(accession_to_taxid_path, \"L\") as accession_to_taxid:\n",
    "    # don't include version when querying (ex query for AP009048 instead of AP009048.1)\n",
    "    taxid = accession_to_taxid.get(\"AP009048\", \"NA\")\n",
    "    print(taxid)\n"
   ]
  },
  {
   "cell_type": "code",
   "execution_count": 12,
   "id": "ec49f5d8-4529-4084-969d-2434834c1188",
   "metadata": {},
   "outputs": [
    {
     "name": "stdout",
     "output_type": "stream",
     "text": [
      "316407\n"
     ]
    }
   ],
   "source": [
    "lineage_path = \"./taxid-lineages.marisa\"\n",
    "with open_file_db_by_extension(accession_to_taxid_path, \"lll\") as lineages:\n",
    "    # use taxid (go from accession to taxid using above mapping)\n",
    "    lineage = lineages.get(\"37124\", \"NA\")\n",
    "    print(taxid)"
   ]
  },
  {
   "cell_type": "code",
   "execution_count": 17,
   "id": "d35567fc",
   "metadata": {},
   "outputs": [
    {
     "name": "stdout",
     "output_type": "stream",
     "text": [
      "['633633307925', '74', '4646333']\n"
     ]
    }
   ],
   "source": [
    "loc_path = \"./nt_loc.marisa\"\n",
    "with open_file_db_by_extension(loc_path, \"QII\") as loc_mapping:\n",
    "    # use accession ID with version\n",
    "    loc = loc_mapping.get(\"AP009048.1\", \"NA\")\n",
    "    print(loc)"
   ]
  },
  {
   "cell_type": "code",
   "execution_count": 18,
   "id": "032e3717",
   "metadata": {},
   "outputs": [
    {
     "name": "stdout",
     "output_type": "stream",
     "text": [
      "['Escherichia coli str. K-12 substr. W3110 DNA, complete genome', '4646332']\n"
     ]
    }
   ],
   "source": [
    "info_path = \"./nt_info.marisa\"\n",
    "with open_file_db_by_extension(info_path, \"256pI\") as info_mapping:\n",
    "    # use accession ID with version\n",
    "    info = info_mapping.get(\"AP009048.1\", \"NA\")\n",
    "    print(info)"
   ]
  },
  {
   "cell_type": "code",
   "execution_count": null,
   "id": "0c821833",
   "metadata": {},
   "outputs": [],
   "source": []
  }
 ],
 "metadata": {
  "kernelspec": {
   "display_name": "Python 3 (ipykernel)",
   "language": "python",
   "name": "python3"
  },
  "language_info": {
   "codemirror_mode": {
    "name": "ipython",
    "version": 3
   },
   "file_extension": ".py",
   "mimetype": "text/x-python",
   "name": "python",
   "nbconvert_exporter": "python",
   "pygments_lexer": "ipython3",
   "version": "3.11.4"
  }
 },
 "nbformat": 4,
 "nbformat_minor": 5
}
