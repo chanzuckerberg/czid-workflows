{
 "cells": [
  {
   "cell_type": "code",
   "execution_count": 1,
   "id": "a7a93897-c8ce-4d91-9f69-96e8fa6aaa55",
   "metadata": {},
   "outputs": [],
   "source": [
    "import shelve\n",
    "from typing import Union\n",
    "import marisa_trie\n",
    "\n",
    "\n",
    "class WrappedTrie:\n",
    "    def __init__(self, trie: marisa_trie.RecordTrie, stringify: bool):\n",
    "        self.trie = trie\n",
    "        self.stringify = stringify\n",
    "\n",
    "    def _extract(self, raw):\n",
    "        if self.stringify:\n",
    "            head = [elem.decode() if isinstance(elem, bytes) else str(elem) for elem in raw[0]]\n",
    "        else:\n",
    "            head = list(raw[0])\n",
    "        if len(head) == 1:\n",
    "            return head[0]\n",
    "        return head\n",
    "\n",
    "    def __getitem__(self, key: str):\n",
    "        return self._extract(self.trie[str(key)])\n",
    "\n",
    "    def __contains__(self, key):\n",
    "        return key in self.trie\n",
    "\n",
    "    def __enter__(self):\n",
    "        return self\n",
    "\n",
    "    def __exit__(self, type, value, tb):\n",
    "        pass\n",
    "\n",
    "    def get(self, name, default=None):\n",
    "        r = self.trie.get(str(name))\n",
    "        if r:\n",
    "            return self._extract(r)\n",
    "        return default\n",
    "\n",
    "\n",
    "def open_file_db_by_extension(db_path: str, fmt: Union[str, None] = None, stringify=True):\n",
    "    if db_path.endswith(\".db\"):\n",
    "        return shelve.open(db_path.replace('.db', ''), 'r')\n",
    "    assert fmt, \"fmt is required for loading marisa trie key value stores\"\n",
    "    return WrappedTrie(marisa_trie.RecordTrie(fmt).mmap(db_path), stringify)"
   ]
  },
  {
   "cell_type": "code",
   "execution_count": 8,
   "id": "3483eb05-dd95-404f-a0f7-491978547507",
   "metadata": {},
   "outputs": [
    {
     "name": "stdout",
     "output_type": "stream",
     "text": [
      "287\n",
      "287\n"
     ]
    }
   ],
   "source": [
    "accession_to_taxid_path = \"./accession2taxid.marisa\"\n",
    "accession_to_2022_path = \"./accession2taxid_2022.marisa\"\n",
    "\n",
    "with open_file_db_by_extension(accession_to_2022_path, \"L\") as accession_to_taxid:\n",
    "    taxid = accession_to_taxid.get(\"MBH4415808\", \"NA\")\n",
    "    print(taxid)\n",
    "    taxid2 = accession_to_taxid.get(\"WP_108224183\", \"NA\")\n",
    "    print(taxid2)"
   ]
  },
  {
   "cell_type": "code",
   "execution_count": null,
   "id": "ec49f5d8-4529-4084-969d-2434834c1188",
   "metadata": {},
   "outputs": [],
   "source": []
  }
 ],
 "metadata": {
  "kernelspec": {
   "display_name": "Python 3 (ipykernel)",
   "language": "python",
   "name": "python3"
  },
  "language_info": {
   "codemirror_mode": {
    "name": "ipython",
    "version": 3
   },
   "file_extension": ".py",
   "mimetype": "text/x-python",
   "name": "python",
   "nbconvert_exporter": "python",
   "pygments_lexer": "ipython3",
   "version": "3.11.4"
  }
 },
 "nbformat": 4,
 "nbformat_minor": 5
}
