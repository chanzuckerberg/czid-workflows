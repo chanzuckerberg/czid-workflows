{
 "cells": [
  {
   "cell_type": "code",
   "execution_count": 7,
   "id": "d16e3733",
   "metadata": {},
   "outputs": [],
   "source": [
    "import gzip\n",
    "import os\n",
    "import sys\n",
    "\n",
    "import boto3\n",
    "import pandas as pd"
   ]
  },
  {
   "cell_type": "code",
   "execution_count": 3,
   "id": "8e5b5adb",
   "metadata": {},
   "outputs": [],
   "source": [
    "def find_changed_taxa(report_csv, changed_csv):\n",
    "  joined = report_csv.join(changed_csv, how='inner')\n",
    "  joined_subset = joined[\n",
    "      ['tax_level', \n",
    "       'tax_name', \n",
    "       'changed_field', \n",
    "       'old_value', \n",
    "       'new_value', \n",
    "       'nt_count', \n",
    "       'nt_contigs', \n",
    "       'nr_count', \n",
    "       'nr_contigs']\n",
    "  ]\n",
    "  filtered = joined_subset[joined_subset['changed_field'].isin(\n",
    "      [\"family_name\", \"genus_name\", \"species_name\", \"tax_name\"]\n",
    "  )] # many changes in phylum level, filter these out so we can see more important lower level changes\n",
    "  return filtered\n"
   ]
  },
  {
   "cell_type": "code",
   "execution_count": 12,
   "id": "33eed041",
   "metadata": {},
   "outputs": [],
   "source": [
    "s3_client = boto3.client('s3')\n",
    "\n",
    "bucket_name = \"idseq-database\"\n",
    "key = \"<key>/changed_lineage_taxa.csv.gz\"\n",
    "\n",
    "\n",
    "obj = s3_client.get_object(Bucket=bucket_name, Key=key)\n",
    "\n",
    "# Read the content of the object with gzip\n",
    "with gzip.GzipFile(fileobj=obj['Body']) as gzipfile:\n",
    "    changed_lineage_taxa = pd.read_csv(gzipfile, index_col='taxid')"
   ]
  },
  {
   "cell_type": "code",
   "execution_count": 13,
   "id": "0db03266",
   "metadata": {},
   "outputs": [
    {
     "data": {
      "text/html": [
       "<div>\n",
       "<style scoped>\n",
       "    .dataframe tbody tr th:only-of-type {\n",
       "        vertical-align: middle;\n",
       "    }\n",
       "\n",
       "    .dataframe tbody tr th {\n",
       "        vertical-align: top;\n",
       "    }\n",
       "\n",
       "    .dataframe thead th {\n",
       "        text-align: right;\n",
       "    }\n",
       "</style>\n",
       "<table border=\"1\" class=\"dataframe\">\n",
       "  <thead>\n",
       "    <tr style=\"text-align: right;\">\n",
       "      <th></th>\n",
       "      <th>tax_name</th>\n",
       "      <th>changed_field</th>\n",
       "      <th>old_value</th>\n",
       "      <th>new_value</th>\n",
       "      <th>superkingdom</th>\n",
       "    </tr>\n",
       "    <tr>\n",
       "      <th>taxid</th>\n",
       "      <th></th>\n",
       "      <th></th>\n",
       "      <th></th>\n",
       "      <th></th>\n",
       "      <th></th>\n",
       "    </tr>\n",
       "  </thead>\n",
       "  <tbody>\n",
       "    <tr>\n",
       "      <th>1</th>\n",
       "      <td>root</td>\n",
       "      <td>tax_name</td>\n",
       "      <td>NaN</td>\n",
       "      <td>root</td>\n",
       "      <td>NaN</td>\n",
       "    </tr>\n",
       "    <tr>\n",
       "      <th>6</th>\n",
       "      <td>Azorhizobium</td>\n",
       "      <td>phylum_name</td>\n",
       "      <td>Proteobacteria</td>\n",
       "      <td>Pseudomonadota</td>\n",
       "      <td>Bacteria</td>\n",
       "    </tr>\n",
       "    <tr>\n",
       "      <th>7</th>\n",
       "      <td>Azorhizobium caulinodans</td>\n",
       "      <td>phylum_name</td>\n",
       "      <td>Proteobacteria</td>\n",
       "      <td>Pseudomonadota</td>\n",
       "      <td>Bacteria</td>\n",
       "    </tr>\n",
       "    <tr>\n",
       "      <th>9</th>\n",
       "      <td>Buchnera aphidicola</td>\n",
       "      <td>phylum_name</td>\n",
       "      <td>Proteobacteria</td>\n",
       "      <td>Pseudomonadota</td>\n",
       "      <td>Bacteria</td>\n",
       "    </tr>\n",
       "    <tr>\n",
       "      <th>10</th>\n",
       "      <td>Cellvibrio</td>\n",
       "      <td>phylum_name</td>\n",
       "      <td>Proteobacteria</td>\n",
       "      <td>Pseudomonadota</td>\n",
       "      <td>Bacteria</td>\n",
       "    </tr>\n",
       "  </tbody>\n",
       "</table>\n",
       "</div>"
      ],
      "text/plain": [
       "                       tax_name changed_field       old_value       new_value  \\\n",
       "taxid                                                                           \n",
       "1                          root      tax_name             NaN            root   \n",
       "6                  Azorhizobium   phylum_name  Proteobacteria  Pseudomonadota   \n",
       "7      Azorhizobium caulinodans   phylum_name  Proteobacteria  Pseudomonadota   \n",
       "9           Buchnera aphidicola   phylum_name  Proteobacteria  Pseudomonadota   \n",
       "10                   Cellvibrio   phylum_name  Proteobacteria  Pseudomonadota   \n",
       "\n",
       "      superkingdom  \n",
       "taxid               \n",
       "1              NaN  \n",
       "6         Bacteria  \n",
       "7         Bacteria  \n",
       "9         Bacteria  \n",
       "10        Bacteria  "
      ]
     },
     "execution_count": 13,
     "metadata": {},
     "output_type": "execute_result"
    }
   ],
   "source": [
    "changed_lineage_taxa.head()"
   ]
  },
  {
   "cell_type": "code",
   "execution_count": 19,
   "id": "a1c1053a",
   "metadata": {},
   "outputs": [],
   "source": [
    "# download sample report table from CZID to compare against changelog (download report table off of sample report)\n",
    "sample_reports = [\n",
    "    \"/Users/plogan/Downloads/atcc_even_34239_original_report.csv\",\n",
    "    \"/Users/plogan/Downloads/norg_13__nacc_35__uniform_weight_per_organism__hiseq_reads__v10__34241_original_1_report.csv\",\n",
    "    \"/Users/plogan/Downloads/UnAmbiguouslyMapped_ds.hous1_34246_original_report.csv\"\n",
    "]"
   ]
  },
  {
   "cell_type": "code",
   "execution_count": 20,
   "id": "47fd414b",
   "metadata": {},
   "outputs": [],
   "source": [
    "for report_csv_name in sample_reports:\n",
    "    report_csv = pd.read_csv(report_csv_name, index_col='tax_id')[:-1]\n",
    "    changed_report_taxa = find_changed_taxa(report_csv, changed_lineage_taxa)\n",
    "    changed_report_taxa.to_csv(f\"changed_lineages_{os.path.basename(report_csv_name)}\")\n",
    "    "
   ]
  },
  {
   "cell_type": "code",
   "execution_count": null,
   "id": "358805ac",
   "metadata": {},
   "outputs": [],
   "source": []
  }
 ],
 "metadata": {
  "kernelspec": {
   "display_name": "Python 3 (ipykernel)",
   "language": "python",
   "name": "python3"
  },
  "language_info": {
   "codemirror_mode": {
    "name": "ipython",
    "version": 3
   },
   "file_extension": ".py",
   "mimetype": "text/x-python",
   "name": "python",
   "nbconvert_exporter": "python",
   "pygments_lexer": "ipython3",
   "version": "3.11.4"
  }
 },
 "nbformat": 4,
 "nbformat_minor": 5
}
